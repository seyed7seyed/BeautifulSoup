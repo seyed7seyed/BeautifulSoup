{
 "cells": [
  {
   "cell_type": "markdown",
   "id": "fe6d17dc",
   "metadata": {},
   "source": [
    "# BeautifulSoup\n",
    " - pip install beautifulsoup4\n",
    " - pip install requests\n",
    " \n",
    " **Note:**\n",
    "  - **ctrl + shift + i** ...... to inspect **html code** of a website \n",
    "  - **ctrl + shift + c** ..... to check **individual elements** of a website"
   ]
  },
  {
   "cell_type": "markdown",
   "id": "d94f8a70",
   "metadata": {},
   "source": [
    "#####   \n",
    "# Importing Libraries"
   ]
  },
  {
   "cell_type": "code",
   "execution_count": 1,
   "id": "6e9d9ad5",
   "metadata": {},
   "outputs": [],
   "source": [
    "import pandas as pd\n",
    "import sys, time, requests \n",
    "from bs4 import BeautifulSoup"
   ]
  },
  {
   "cell_type": "markdown",
   "id": "c506adae",
   "metadata": {},
   "source": [
    "#####   \n",
    "# Website #1"
   ]
  },
  {
   "cell_type": "code",
   "execution_count": 2,
   "id": "982f19d8",
   "metadata": {},
   "outputs": [],
   "source": [
    "try:\n",
    "    page = requests.get('https://www.cricbuzz.com/') # this might throw an exception if something goes wrong\n",
    "    \n",
    "except Exception as e:\n",
    "    error_type, error_obj, error_info = sys.exc_info()\n",
    "    print('ERROR FOR LINK:',url)\n",
    "    print(error_type, 'Line:', error_info.tb_lineno)\n",
    "    \n",
    "time.sleep(2)\n",
    "soup  = BeautifulSoup(page.text,'html.parser')\n",
    "links = soup.find_all('div',attrs={'class':'cb-nws-intr'})"
   ]
  },
  {
   "cell_type": "code",
   "execution_count": 3,
   "id": "e7da52f0",
   "metadata": {},
   "outputs": [
    {
     "name": "stdout",
     "output_type": "stream",
     "text": [
      "The five-team league is likely to take place from February 22 to March 17 across multiple venues\n",
      "\n",
      "\n",
      "Phillips, Santner stabilised the 137-run chase to help New Zealand to a four-wicket win\n",
      "\n",
      "\n",
      "That India are in South Africa so soon after being denied what until the World Cup final seemed a prize they had a divine right to claim adds a layer to a narrative that isn't short on context\n",
      "\n",
      "\n",
      "The tour kicks off with the first T20I on December 10 in Durban\n",
      "\n",
      "\n",
      "Where exactly do pacers figure in Bangladesh's game plans in Test cricket? The third day's play in Dhaka begs an answer to that question\n",
      "\n",
      "\n",
      "The New Zealand cricketer had been hit with 11 life-time bans in 2014 for his involvement in match-fixing\n",
      "\n",
      "\n",
      "The allrounder hopes more Australian players get to feature in the T20 tournament next year\n",
      "\n",
      "\n",
      "The selectors have opted to announce a squad only for the opening game of the three-match series against the visiting Pakistan side \n",
      "\n",
      "\n",
      "The deal has gone to Amazon's prime video streaming service, without an attached free-to-air partner, meaning the public will need a paid subscription to the service \n",
      "\n",
      "\n",
      "After posting an imposing 214/3, Heat's attack all shared the spoils with Mitchell Swepson being the pick of the bowlers with a three-fer\n",
      "\n",
      "\n",
      "Chasing a modest target of 126, Brisbane Heat fell short by three runs\n",
      "\n",
      "\n",
      "Jofra Archer, who was recently released by the Mumbai Indians, has not enrolled\n",
      "\n",
      "\n",
      "While the exact tenure of Dravid's new stint has not been revealed by BCCI yet, it is expected to continue at least until the upcoming Men's T20 World Cup, scheduled for June 2024\n",
      "\n",
      "\n",
      "How the squads look on deadline day for retention and releases ahead of the IPL 2024 Auction next month\n",
      "\n",
      "\n",
      "News bytes that you may have otherwise missed\n",
      "\n",
      "\n",
      "Virat Kohli surpassed his idol Sachin Tendulkar's record of most ODI hundreds at the home of Indian cricket, en route to putting India into yet another World Cup final\n",
      "\n",
      "\n",
      "The man who fell off a golf cart and got concussed a week before had left everyone else feeling silly, disillusioned and overwhelmed, even as he soared to enter the pantheon of the greats with an innings of a lifetime\n",
      "\n",
      "\n",
      "Rohit Sharma's high-risk game has allowed Virat Kohli to be unapologetically Virat Kohli\n",
      "\n",
      "\n",
      "India's national capital that is home to a strong Afghan sub-culture faces an uncertain future\n",
      "\n",
      "\n",
      "The New Zealand quick tells Cricbuzz how undergoing surgery early in his career, and carrying a lot of drinks, taught him how to choose his internal narrative\n",
      "\n",
      "\n",
      "For all the qualities associated with Rohit - the quirky and laid back persona, his easy predisposition - there is a common thread of loyalty and friendship\n",
      "\n",
      "\n",
      "South Africa's latest fast bowling find is young, quick, talented and has impeccable manners. How did he become not only a hot prospect, but also so thoroughly decent?\n",
      "\n",
      "\n"
     ]
    }
   ],
   "source": [
    "#print(page)\n",
    "#print(soup)\n",
    "\n",
    "for i in links:\n",
    "    print(i.text)\n",
    "    print('\\n')"
   ]
  },
  {
   "cell_type": "markdown",
   "id": "e0d8d34f",
   "metadata": {},
   "source": [
    "#####   \n",
    "# Website #2"
   ]
  },
  {
   "cell_type": "code",
   "execution_count": 4,
   "id": "740fd59e",
   "metadata": {},
   "outputs": [],
   "source": [
    "# website #2\n",
    "\n",
    "try:\n",
    "    page = requests.get('https://www.amazon.in/Apple-iPhone-11-Pro-256GB/product-reviews/B07XVMJF2D/ref=cm_cr_dp_d_show_all_btm?ie=UTF8&reviewerType=all_reviews/') # this might throw an exception if something goes wrong\n",
    "    \n",
    "except Exception as e:\n",
    "    error_type, error_obj, error_info = sys.exc_info()\n",
    "    print('ERROR FOR LINK:',url)\n",
    "    print(error_type, 'Line:', error_info.tb_lineno)\n",
    "    \n",
    "time.sleep(2)\n",
    "soup  = BeautifulSoup(page.text,'html.parser')\n",
    "links = soup.find_all('div',attrs={'class':'a-row a-spacing-top-mini'})"
   ]
  },
  {
   "cell_type": "code",
   "execution_count": 5,
   "id": "3eff14fd",
   "metadata": {},
   "outputs": [
    {
     "name": "stdout",
     "output_type": "stream",
     "text": [
      "Short: Go for it if you can afford.TL;DR;I've been having Apple ecosystem (MBP, Watch, AirPod, iPad and iPhone) for many years.  However, this is my first release day purchase of an Apple device.  Improved camera module in iPhone 11 pro helped me to arrive at this decision and I believe that this is the single most important feature in iPhone 11 pro.  Mainly -- Introduction of new wide angle lens.- Better color reproduction- Night mode (Some online reviews suggested that this can not be changed and is set by Camera app automatically.  This is not true.  You can disable if needed from the selection controls)- 16:9 format (you can set this to default from Settings->Camera->Preserve Settings->Camera Mode).  This is the default in my case- Portrait mode with light settings.  I found that we can take studio quality pictures using this)Here are some images I took at various settings.  You can see the richness of color in each of these photographs.  The first one was in the morning against rising sun.  Look at the accurate exposure on the lawn even with the presence of direct sunlight.  The last one is part of Blue city Jodhpur with Mehrangarh fort in the backdrop.  Though the blue is a bit saturated, it gives a dramatic look for the photos.In addition to Camera, the overall experience is very fluid and effortless (I'm leaving out the iOS13 features as the same is available on older models as well).There are a few drawbacks though. The phone is bit bulkier than previous models.  The advantage is the increased battery life.  I've been able to use the phone for upto 30 hours with over 4 hours of screen time (mainly reading and videos) and close to 1 hour of call.  That's a great improvement compared to previous versions.The second drawback is the price.  But that's the price you pay for quality.  One should be able to use this phone for 4 years at least with OS upgrades and Security updates coming in continuously (Something which I don't see on Android).\n",
      "\n",
      "\n",
      "I am always being fan of iOS & Apple Products.Reason:-QualityPerformanceTransparent Customer SupportDesignBuild QualityUpdatesSound QualityPromises too.Going to write review post a week usage.Pros.Display QualityPerformanceSpeedFast chargingCameraEven Selfie camera Quality enhancedTriple camera also good as described.New Color Midnight Green added as a charm.E-SimIP68 better than others.Battery Usage too better then iPhone XS.Durability too.Cons.No 3D Touch.Old Headphones no changesIn india its too much expensiveHeating issueWhile charging please don’t use it bcz thereafter you can fry an egg on it 😂.Low Screen Refresh Rate.Just 10-20% better than iPhone XS.Camera fails in lighting, ma be apple sort-out this in next update.I am giving :-Screen 4/5Design 5/5Performance 4/5 (Heating)Sound 5/5Price 3/5 (too much expensive)Customer Support 5/5Now battery life falls to 84% in Just 400 Charges.Amazon Delivery 3/5 (i am not satisfied bcz they not delivered the product as per promise.Soon i’ll publish the pics shoots on iPhone 11 Pro.Thanks for Reading.\n",
      "\n",
      "\n"
     ]
    }
   ],
   "source": [
    "#print(page)\n",
    "#print(soup)\n",
    "\n",
    "for i in links:\n",
    "    print(i.text)\n",
    "    print('\\n')"
   ]
  },
  {
   "cell_type": "markdown",
   "id": "57b1f90a",
   "metadata": {},
   "source": [
    "#####   "
   ]
  },
  {
   "cell_type": "markdown",
   "id": "a836fa74",
   "metadata": {},
   "source": [
    "#####   "
   ]
  }
 ],
 "metadata": {
  "kernelspec": {
   "display_name": "Python 3 (ipykernel)",
   "language": "python",
   "name": "python3"
  },
  "language_info": {
   "codemirror_mode": {
    "name": "ipython",
    "version": 3
   },
   "file_extension": ".py",
   "mimetype": "text/x-python",
   "name": "python",
   "nbconvert_exporter": "python",
   "pygments_lexer": "ipython3",
   "version": "3.10.13"
  }
 },
 "nbformat": 4,
 "nbformat_minor": 5
}
