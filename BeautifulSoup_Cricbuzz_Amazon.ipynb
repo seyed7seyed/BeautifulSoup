{
 "cells": [
  {
   "cell_type": "markdown",
   "id": "fe6d17dc",
   "metadata": {},
   "source": [
    "# BeautifulSoup\n",
    " - **pip install beautifulsoup4**\n",
    " - **pip install requests**  \n",
    "<Br>\n",
    "    \n",
    "## **Usage:**\n",
    "  - Extracting **links**, **images**, and **tables** from **HTML pages**\n",
    "<Br>\n",
    "    \n",
    " ## **Note:**\n",
    "  - **ctrl + shift + i** ...... to inspect **html code** of a website \n",
    "  - **ctrl + shift + c** ..... to check **individual elements** of a website"
   ]
  },
  {
   "cell_type": "markdown",
   "id": "d94f8a70",
   "metadata": {},
   "source": [
    "#####   \n",
    "# Importing Libraries"
   ]
  },
  {
   "cell_type": "code",
   "execution_count": 1,
   "id": "6e9d9ad5",
   "metadata": {},
   "outputs": [],
   "source": [
    "import pandas as pd\n",
    "import sys, time, requests \n",
    "from bs4 import BeautifulSoup"
   ]
  },
  {
   "cell_type": "markdown",
   "id": "c506adae",
   "metadata": {},
   "source": [
    "#####   \n",
    "# Website #0"
   ]
  },
  {
   "cell_type": "code",
   "execution_count": 2,
   "id": "06d3600d",
   "metadata": {},
   "outputs": [],
   "source": [
    "import urllib.request\n",
    "import re"
   ]
  },
  {
   "cell_type": "code",
   "execution_count": 3,
   "id": "2a283d93",
   "metadata": {},
   "outputs": [],
   "source": [
    "url = 'https://docs.python.org/3/library/random.html'\n",
    "\n",
    "try:\n",
    "    page = urllib.request.urlopen(url) # this might throw an exception if something goes wrong\n",
    "    \n",
    "except Exception as e:\n",
    "    error_type, error_obj, error_info = sys.exc_info()\n",
    "    print('ERROR FOR LINK:',url)\n",
    "    print(error_type, 'Line:', error_info.tb_lineno)\n",
    "    \n",
    "soup = BeautifulSoup( page )\n",
    "#print(soup.prettify())"
   ]
  },
  {
   "cell_type": "code",
   "execution_count": 4,
   "id": "b2bb7b61",
   "metadata": {},
   "outputs": [
    {
     "name": "stdout",
     "output_type": "stream",
     "text": [
      "['random.seed', 'random.getstate', 'random.setstate', 'random.randbytes', 'random.randrange', 'random.randint', 'random.getrandbits', 'random.choice', 'random.choices', 'random.shuffle', 'random.sample', 'random.binomialvariate', 'random.random', 'random.uniform', 'random.triangular', 'random.betavariate', 'random.expovariate', 'random.gammavariate', 'random.gauss', 'random.lognormvariate', 'random.normalvariate', 'random.vonmisesvariate', 'random.paretovariate', 'random.weibullvariate', 'random.Random', 'random.SystemRandom']\n"
     ]
    }
   ],
   "source": [
    "names = soup.body.findAll('dt')\n",
    "function_names = re.findall('id=\"random.\\w+',str(names))\n",
    "function_names = [ item[4:] for item in function_names ]\n",
    "print( function_names )"
   ]
  },
  {
   "cell_type": "code",
   "execution_count": 5,
   "id": "461447c1",
   "metadata": {
    "scrolled": true
   },
   "outputs": [],
   "source": [
    "description = soup.body.findAll('dd')\n",
    "function_usage = []\n",
    "for item in description:\n",
    "    item = item.text\n",
    "    item = item.replace('\\n',' ')\n",
    "    function_usage.append(item)\n",
    "#print( function_usage )"
   ]
  },
  {
   "cell_type": "code",
   "execution_count": 6,
   "id": "6c82acca",
   "metadata": {},
   "outputs": [
    {
     "name": "stdout",
     "output_type": "stream",
     "text": [
      "[26, 26]\n"
     ]
    }
   ],
   "source": [
    "print([ len(function_names), len(function_usage) ])"
   ]
  },
  {
   "cell_type": "code",
   "execution_count": 7,
   "id": "64602ed4",
   "metadata": {},
   "outputs": [
    {
     "data": {
      "text/html": [
       "<div>\n",
       "<style scoped>\n",
       "    .dataframe tbody tr th:only-of-type {\n",
       "        vertical-align: middle;\n",
       "    }\n",
       "\n",
       "    .dataframe tbody tr th {\n",
       "        vertical-align: top;\n",
       "    }\n",
       "\n",
       "    .dataframe thead th {\n",
       "        text-align: right;\n",
       "    }\n",
       "</style>\n",
       "<table border=\"1\" class=\"dataframe\">\n",
       "  <thead>\n",
       "    <tr style=\"text-align: right;\">\n",
       "      <th></th>\n",
       "      <th>Name</th>\n",
       "      <th>Usage</th>\n",
       "    </tr>\n",
       "  </thead>\n",
       "  <tbody>\n",
       "    <tr>\n",
       "      <th>0</th>\n",
       "      <td>random.seed</td>\n",
       "      <td>Initialize the random number generator. If a i...</td>\n",
       "    </tr>\n",
       "    <tr>\n",
       "      <th>1</th>\n",
       "      <td>random.getstate</td>\n",
       "      <td>Return an object capturing the current interna...</td>\n",
       "    </tr>\n",
       "    <tr>\n",
       "      <th>2</th>\n",
       "      <td>random.setstate</td>\n",
       "      <td>state should have been obtained from a previou...</td>\n",
       "    </tr>\n",
       "  </tbody>\n",
       "</table>\n",
       "</div>"
      ],
      "text/plain": [
       "              Name                                              Usage\n",
       "0      random.seed  Initialize the random number generator. If a i...\n",
       "1  random.getstate  Return an object capturing the current interna...\n",
       "2  random.setstate  state should have been obtained from a previou..."
      ]
     },
     "execution_count": 7,
     "metadata": {},
     "output_type": "execute_result"
    }
   ],
   "source": [
    "df = pd.DataFrame([ function_names, function_usage ]).T\n",
    "df.columns = ['Name','Usage']\n",
    "df.head(3)"
   ]
  },
  {
   "cell_type": "markdown",
   "id": "6b58ac88",
   "metadata": {},
   "source": [
    "#####   \n",
    "# Website #1"
   ]
  },
  {
   "cell_type": "code",
   "execution_count": 8,
   "id": "982f19d8",
   "metadata": {},
   "outputs": [],
   "source": [
    "link = 'https://www.cricbuzz.com/'\n",
    "\n",
    "try:\n",
    "    page = requests.get(link) # this might throw an exception if something goes wrong\n",
    "        \n",
    "except Exception as e:\n",
    "    error_type, error_obj, error_info = sys.exc_info()\n",
    "    print('ERROR FOR LINK:',url)\n",
    "    print(error_type, 'Line:', error_info.tb_lineno)\n",
    "    \n",
    "time.sleep(2)\n",
    "soup  = BeautifulSoup(page.text,'html.parser')\n",
    "links = soup.find_all('div',attrs={'class':'cb-nws-intr'})"
   ]
  },
  {
   "cell_type": "code",
   "execution_count": 9,
   "id": "e7da52f0",
   "metadata": {
    "scrolled": true
   },
   "outputs": [
    {
     "name": "stdout",
     "output_type": "stream",
     "text": [
      "number_of_links = 26\n",
      "India restricted England to 126 before getting to the target with an over to spare in the third T20I\n",
      "\n",
      "\n",
      "No ground in South Africa has endured as much interference from the elements in internationals as Kingsmead\n",
      "\n",
      "\n",
      "The five-team league is likely to take place from February 22 to March 17 across multiple venues\n",
      "\n",
      "\n",
      "Phillips, Santner stabilised the 137-run chase to help New Zealand to a four-wicket win\n",
      "\n",
      "\n",
      "That India are in South Africa so soon after being denied what until the World Cup final seemed a prize they had a divine right to claim adds a layer to a narrative that isn't short on context\n",
      "\n",
      "\n",
      "The tour kicks off with the first T20I on December 10 in Durban\n",
      "\n",
      "\n",
      "Where exactly do pacers figure in Bangladesh's game plans in Test cricket? The third day's play in Dhaka begs an answer to that question\n",
      "\n",
      "\n",
      "The Pakistan legspinner's participation for the remaining two Tests also remains in doubt\n",
      "\n",
      "\n",
      "The New Zealand cricketer had been hit with 11 life-time bans in 2014 for his involvement in match-fixing\n",
      "\n",
      "\n",
      "The allrounder hopes more Australian players get to feature in the T20 tournament next year\n",
      "\n",
      "\n",
      "The selectors have opted to announce a squad only for the opening game of the three-match series against the visiting Pakistan side \n",
      "\n",
      "\n",
      "The deal has gone to Amazon's prime video streaming service, without an attached free-to-air partner, meaning the public will need a paid subscription to the service \n",
      "\n",
      "\n",
      "After posting an imposing 214/3, Heat's attack all shared the spoils with Mitchell Swepson being the pick of the bowlers with a three-fer\n",
      "\n",
      "\n",
      "Chasing a modest target of 126, Brisbane Heat fell short by three runs\n",
      "\n",
      "\n",
      "Jofra Archer, who was recently released by the Mumbai Indians, has not enrolled\n",
      "\n",
      "\n",
      "While the exact tenure of Dravid's new stint has not been revealed by BCCI yet, it is expected to continue at least until the upcoming Men's T20 World Cup, scheduled for June 2024\n",
      "\n",
      "\n",
      "How the squads look on deadline day for retention and releases ahead of the IPL 2024 Auction next month\n",
      "\n",
      "\n",
      "News bytes that you may have otherwise missed\n",
      "\n",
      "\n",
      "That India are in South Africa so soon after being denied what until the World Cup final seemed a prize they had a divine right to claim adds a layer to a narrative that isn't short on context\n",
      "\n",
      "\n",
      "Virat Kohli surpassed his idol Sachin Tendulkar's record of most ODI hundreds at the home of Indian cricket, en route to putting India into yet another World Cup final\n",
      "\n",
      "\n",
      "The man who fell off a golf cart and got concussed a week before had left everyone else feeling silly, disillusioned and overwhelmed, even as he soared to enter the pantheon of the greats with an innings of a lifetime\n",
      "\n",
      "\n",
      "Rohit Sharma's high-risk game has allowed Virat Kohli to be unapologetically Virat Kohli\n",
      "\n",
      "\n",
      "India's national capital that is home to a strong Afghan sub-culture faces an uncertain future\n",
      "\n",
      "\n",
      "The New Zealand quick tells Cricbuzz how undergoing surgery early in his career, and carrying a lot of drinks, taught him how to choose his internal narrative\n",
      "\n",
      "\n",
      "For all the qualities associated with Rohit - the quirky and laid back persona, his easy predisposition - there is a common thread of loyalty and friendship\n",
      "\n",
      "\n",
      "South Africa's latest fast bowling find is young, quick, talented and has impeccable manners. How did he become not only a hot prospect, but also so thoroughly decent?\n",
      "\n",
      "\n"
     ]
    }
   ],
   "source": [
    "#print('page =', page)\n",
    "#print(page.content)\n",
    "#print(soup)\n",
    "print('number_of_links =', len(links))\n",
    "\n",
    "for i in links:\n",
    "    print(i.text)\n",
    "    print('\\n')"
   ]
  },
  {
   "cell_type": "markdown",
   "id": "e0d8d34f",
   "metadata": {},
   "source": [
    "#####   \n",
    "# Website #2"
   ]
  },
  {
   "cell_type": "code",
   "execution_count": 10,
   "id": "740fd59e",
   "metadata": {},
   "outputs": [],
   "source": [
    "link = 'https://www.amazon.in/Apple-iPhone-11-Pro-256GB/product-reviews/B07XVMJF2D/ref=cm_cr_dp_d_show_all_btm?ie=UTF8&reviewerType=all_reviews/'\n",
    "    \n",
    "try:\n",
    "    page = requests.get(link) # this might throw an exception if something goes wrong\n",
    "        \n",
    "except Exception as e:\n",
    "    error_type, error_obj, error_info = sys.exc_info()\n",
    "    print('ERROR FOR LINK:',url)\n",
    "    print(error_type, 'Line:', error_info.tb_lineno)\n",
    "    \n",
    "time.sleep(2)\n",
    "soup  = BeautifulSoup(page.text,'html.parser')\n",
    "links = soup.find_all('div',attrs={'class':'a-row a-spacing-top-mini'})"
   ]
  },
  {
   "cell_type": "code",
   "execution_count": 11,
   "id": "3eff14fd",
   "metadata": {
    "scrolled": true
   },
   "outputs": [
    {
     "name": "stdout",
     "output_type": "stream",
     "text": [
      "number_of_links = 0\n"
     ]
    }
   ],
   "source": [
    "#print('page =', page)\n",
    "#print(page.content)\n",
    "#print(soup)\n",
    "print('number_of_links =', len(links))\n",
    "\n",
    "for i in links:\n",
    "    print(i.text)\n",
    "    print('\\n')"
   ]
  },
  {
   "cell_type": "markdown",
   "id": "48d0518d",
   "metadata": {},
   "source": [
    "#####   \n",
    "# Website #3"
   ]
  },
  {
   "cell_type": "code",
   "execution_count": 12,
   "id": "7e5f5d2d",
   "metadata": {},
   "outputs": [],
   "source": [
    "link = 'https://learnenglishteens.britishcouncil.org/exams/reading-exams/writers-opinion-or-readers-response'\n",
    "\n",
    "try:\n",
    "    page = requests.get(link) # this might throw an exception if something goes wrong\n",
    "    \n",
    "except Exception as e:\n",
    "    error_type, error_obj, error_info = sys.exc_info()\n",
    "    print('ERROR FOR LINK:',url)\n",
    "    print(error_type, 'Line:', error_info.tb_lineno)\n",
    "    \n",
    "time.sleep(2)\n",
    "soup  = BeautifulSoup(page.text,'html.parser')\n",
    "links = soup.find_all('div',attrs={'class':'content'})"
   ]
  },
  {
   "cell_type": "code",
   "execution_count": 13,
   "id": "422fd1b5",
   "metadata": {
    "scrolled": true
   },
   "outputs": [
    {
     "name": "stdout",
     "output_type": "stream",
     "text": [
      "number_of_links = 1\n",
      "\n",
      "At higher levels you may be asked to consider the writer’s opinion or to give your opinion about a text.\n",
      "Does the type of text help you understand the writer’s aim? e.g. a story is to entertain, a leaflet is to advertise and a report is to inform.\n",
      "Look for language in the text that indicates the writer’s intention. e.g. ‘We should use ...’, ‘Experts warn us that ...’ to advise.\n",
      "Look for language in the text that indicates the writer’s opinion. e.g.  ‘In my view ...’, ‘I refuse to believe that ...’, etc.\n",
      "To give your opinion use language such as ‘In my view ...’, ‘I believe ...’, etc.\n",
      "Do you agree or disagree with things in the text? Explain why with your own words. ‘I agree that ... because ...’.\n",
      "\n",
      "\n",
      "Check your understanding: multiple choice - the writer's opinion or reader's response\n",
      "\n",
      "\n",
      "\n",
      "\n",
      "\n",
      "\n",
      "\n",
      "Discussion\n",
      "How well did you do in the exercise?  Do you think the tips will help you in your next reading exam?  Remember to tell us how well you do in future reading exams!\n",
      "\n",
      "\n",
      "\n",
      "\n",
      "Language level\n",
      "\n",
      "B1 English level (intermediate)\n",
      "B2 English level (upper intermediate)\n",
      "\n",
      "\n",
      "\n",
      "Topics\n",
      "\n",
      "exams\n",
      "\n",
      "\n",
      "\n",
      "\n",
      "\n",
      "Select ratingGive it 1/5Give it 2/5Give it 3/5Give it 4/5Give it 5/5\n",
      "\n",
      "Average: 5 (2 votes)\n",
      "\n",
      "\n",
      "\n",
      "Rate\n",
      "\n",
      "\n",
      "\n",
      "Book traversal links for The writer’s opinion or reader’s response\n",
      "\n",
      "\n",
      "‹ Vocabulary in a text\n",
      "\n",
      "\n",
      "Up\n",
      "\n",
      "\n",
      "\n",
      "\n",
      "\n",
      "\n",
      "Personal online tutoring\n",
      "EnglishScore Tutors is the British Council’s one-to-one tutoring platform for 13- to 17-year-olds.\n",
      "Find out more\n",
      "\n",
      "\n",
      "\n",
      "\n",
      "\n",
      "\n",
      "\n",
      "\n"
     ]
    }
   ],
   "source": [
    "#print('page =', page)\n",
    "#print(page.content)\n",
    "#print(soup)\n",
    "print('number_of_links =', len(links))\n",
    "\n",
    "for i in links:\n",
    "    print(i.text)\n",
    "    print('\\n')"
   ]
  },
  {
   "cell_type": "markdown",
   "id": "57b1f90a",
   "metadata": {},
   "source": [
    "#####   "
   ]
  },
  {
   "cell_type": "markdown",
   "id": "a836fa74",
   "metadata": {},
   "source": [
    "#####   "
   ]
  }
 ],
 "metadata": {
  "kernelspec": {
   "display_name": "Python 3 (ipykernel)",
   "language": "python",
   "name": "python3"
  },
  "language_info": {
   "codemirror_mode": {
    "name": "ipython",
    "version": 3
   },
   "file_extension": ".py",
   "mimetype": "text/x-python",
   "name": "python",
   "nbconvert_exporter": "python",
   "pygments_lexer": "ipython3",
   "version": "3.10.13"
  }
 },
 "nbformat": 4,
 "nbformat_minor": 5
}
